{
 "cells": [
  {
   "cell_type": "code",
   "execution_count": null,
   "metadata": {},
   "outputs": [
    {
     "name": "stderr",
     "output_type": "stream",
     "text": [
      "<ipython-input-1-f6d1808e2409>:2: UserWarning: \n",
      "The dash_core_components package is deprecated. Please replace\n",
      "`import dash_core_components as dcc` with `from dash import dcc`\n",
      "  import dash_core_components as dcc\n",
      "<ipython-input-1-f6d1808e2409>:3: UserWarning: \n",
      "The dash_html_components package is deprecated. Please replace\n",
      "`import dash_html_components as html` with `from dash import html`\n",
      "  import dash_html_components as html\n"
     ]
    },
    {
     "name": "stdout",
     "output_type": "stream",
     "text": [
      "Dash is running on http://127.0.0.1:1234/\n",
      "\n",
      " * Serving Flask app '__main__' (lazy loading)\n",
      " * Environment: production\n",
      "\u001b[31m   WARNING: This is a development server. Do not use it in a production deployment.\u001b[0m\n",
      "\u001b[2m   Use a production WSGI server instead.\u001b[0m\n",
      " * Debug mode: on\n"
     ]
    }
   ],
   "source": [
    "import dash\n",
    "import dash_core_components as dcc\n",
    "import dash_html_components as html\n",
    "from dash.dependencies import Input, Output\n",
    "import plotly.express as px\n",
    "import plotly.graph_objects as go\n",
    "from ipywidgets import widgets\n",
    "import pandas as pd\n",
    "import numpy as np\n",
    "\n",
    "input_1 = dcc.Input(\n",
    "    placeholder='Enter a value...',\n",
    "    id=\"input_1\",\n",
    "    type='text',\n",
    "    value='2'\n",
    ") \n",
    "\n",
    "input_2 = dcc.Input(\n",
    "    placeholder='Enter a value...',\n",
    "    id=\"input_2\",\n",
    "    type='text',\n",
    "    value='4'\n",
    ") \n",
    "\n",
    "input_3 = dcc.Input(\n",
    "    placeholder='Enter a value...',\n",
    "    id=\"input_3\",\n",
    "    type='text',\n",
    "    value='2'\n",
    ") \n",
    "\n",
    "app = dash.Dash(__name__)\n",
    "\n",
    "app.layout = html.Div([\n",
    "    dcc.Graph(id=\"line-chart\"),\n",
    "    html.Div([\n",
    "        input_1,\n",
    "        input_2,\n",
    "        input_3,\n",
    "    ]),\n",
    "    dcc.Textarea(\n",
    "        id='textarea-example',\n",
    "        value='Textarea content initialized\\nwith multiple lines of text',\n",
    "        style={'width': '10%', 'height': 20},\n",
    "    ),\n",
    "])\n",
    "\n",
    "@app.callback(Output(\"line-chart\", \"figure\"), [Input(\"input_1\", \"value\"), Input(\"input_2\", \"value\"), Input(\"input_3\", \"value\")])\n",
    "def update_line_chart(a, b, c):\n",
    "    x = np.array(np.arange(100)-50)\n",
    "    y = float(a) * x**2 + float(b) * x + float(c)\n",
    "    \n",
    "    pontos_para_regressao = pd.DataFrame()\n",
    "    pontos_para_regressao['X'] = x\n",
    "    pontos_para_regressao['y'] = y\n",
    "    \n",
    "    # mask = df.continent.isin(continents)\n",
    "    fig = px.line(pontos_para_regressao, x=\"X\", y=\"y\")\n",
    "    return fig\n",
    "\n",
    "\n",
    "@app.callback(Output(\"textarea-example\", \"value\"), [Input(\"input_1\", \"value\"), Input(\"input_2\", \"value\"), Input(\"input_3\", \"value\")])\n",
    "def update_text(a, b, c):\n",
    "    return a + \" - \" + b + \" - \" + c\n",
    "\n",
    "app.run_server(port=1234, debug=True, use_reloader=False)"
   ]
  },
  {
   "cell_type": "code",
   "execution_count": null,
   "metadata": {},
   "outputs": [],
   "source": []
  },
  {
   "cell_type": "code",
   "execution_count": null,
   "metadata": {},
   "outputs": [],
   "source": []
  }
 ],
 "metadata": {
  "kernelspec": {
   "display_name": "Python 3",
   "language": "python",
   "name": "python3"
  },
  "language_info": {
   "codemirror_mode": {
    "name": "ipython",
    "version": 3
   },
   "file_extension": ".py",
   "mimetype": "text/x-python",
   "name": "python",
   "nbconvert_exporter": "python",
   "pygments_lexer": "ipython3",
   "version": "3.8.10"
  }
 },
 "nbformat": 4,
 "nbformat_minor": 4
}
